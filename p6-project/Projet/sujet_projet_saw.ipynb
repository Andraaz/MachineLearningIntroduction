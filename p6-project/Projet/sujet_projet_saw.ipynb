{
 "cells": [
  {
   "cell_type": "markdown",
   "metadata": {},
   "source": [
    "# Projet: comment choisir le meilleur modèle d'apprentissage automatique pour un problème donné?"
   ]
  },
  {
   "cell_type": "markdown",
   "metadata": {},
   "source": [
    "Déroulement \n",
    "- réalisation en binôme \n",
    "- A rendre : fichier jupyter + éventullement rapport d'analyse\n",
    "- Date de livraison : 30 Mars 2022"
   ]
  },
  {
   "cell_type": "markdown",
   "metadata": {},
   "source": [
    "Dans ce projet nous allons traiter différents problèmes nécessitant l'utilisation des méthodes d'apprentissage automatique.\n",
    "Le but est de choisir pour un jeu de données, représentant un problème donné, le bon modèle d'apprentissage automatique compatible. Cette tâche englobe notamment le choix du meilleur pré-traitement à appliquer aux jeux de données ainsi que les bons paramètres du modèle d'apprentissage automatique.\n",
    "\n",
    "Ainsi, Résoudre le problème par le clustering revient à fournir une représentation optimale par des clusters du jeu de données associé. En classification supervisée, résoudre le problème signifie produire le modèle prédictif le plus efficace. Nous vous informons qu'un problème dont le jeu de données ne contient pas de labels est résolu globalement par les méthodes de clustering. Si les labels sont présents, dans ce cas, la classification supervisée est souhaitable. Dans un but pédagogique, nous utilisons le même ensemble labélisé de données pour la classification (supervisé) et clustering (ML non supervisé)\n",
    "\n",
    "Pour mener cette tâche, certaines étapes sont nécessaires.\n",
    "\n",
    "- La première étape donne un apperçu sur les jeux de données auxquelles nous nous intéressons. \n",
    "- Les étapes de 2 à 4 demandent à développer des fonctions nécessaires à la préparation des jeux de données. \n",
    "- A partir de l'étape 5, on procède à la recherche du modèle optimal d'apprentissage automatique pour chacun des problèmes."
   ]
  },
  {
   "cell_type": "markdown",
   "metadata": {},
   "source": [
    "Dans ce projet nous allons traiter différents problèmes nécessitant l'utilisation des méthodes d'apprentissage automatique.\n",
    "Le but est de choisir pour un jeu de données, représentant un problème donné, le bon modèle d'apprentissage automatique compatible. Cette tâche englobe notamment le choix du meilleur pré-traitement à appliquer aux jeux de données ainsi que les bons paramètres du modèle d'apprentissage automatique.\n",
    "\n",
    "Ainsi, Résoudre le problème par le clustering revient à fournir une représentation optimale par des clusters du jeu de données associé. En classification supervisée, résoudre le problème signifie produire le modèle prédictif le plus efficace. Nous vous informons qu'un problème dont le jeu de données ne contient pas de labels est résolu globalement par les méthodes de clustering. Si les labels sont présents, dans ce cas, la classification supervisée est souhaitable. Dans un but pédagogique, nous utilisons le même ensemble labélisé de données pour la classification (supervisé) et clustering (ML non supervisé)\n",
    "\n",
    "Pour mener cette tâche, certaines étapes sont nécessaires.\n",
    "\n",
    "- La première étape donne un apperçu sur les jeux de données auxquelles nous nous intéressons. \n",
    "- Les étapes de 2 à 4 demandent à développer des fonctions nécessaires à la préparation des jeux de données. \n",
    "- A partir de l'étape 5, on procède à la recherche du modèle optimal d'apprentissage automatique pour chacun des problèmes."
   ]
  },
  {
   "cell_type": "markdown",
   "metadata": {},
   "source": [
    "##  <font color = \"darkgreen\">1- Description des jeux de données</font>"
   ]
  },
  {
   "cell_type": "markdown",
   "metadata": {},
   "source": [
    "Dans ce projet, nous travaillerons sur des problèmes réels que nous cherchons à résoudre au moyen de l'apprentissage automatique :\n",
    "\n",
    "* GCM: diagnostic de cancer multiclasses (prostate, pancréans...) , chaque obervation est une représentation d'un cancer via 16063 signatures d'expression de gènes tumoraux. Le cancer pourrait avoir plusieurs representations et donc plusieurs observations.\n",
    "\n",
    "* Diabetes: diagnostic de diabètes. Une obervation représente les caractéristiques d'un patient (âge, pression, poids...) atteinte ou non du diabète.\n",
    "\n",
    "* Wall-robot-navigation: mouvements du robot SCITOS G5 naviguant dans une pièce en suivant le mur dans le sens des aiguilles d'une montre, pendant 4 tours, mesurés à l'aide de 24 capteurs à ultrasons disposés en cercle autour de sa \"taille\". Chaque obervation représente un mouvement: Avancer,  Léger virage à droite, Virage serré à droite ou Tournez légèrement à gauche (le code peut être fourni )\n",
    "\n",
    "* Japenese-vowel: cet ensemble de données enregistre 640 séries chronologiques de 12 coefficients de cepstre LPC provenant de neuf locuteurs masculins (https://fr.wikipedia.org/wiki/Cepstre). Chaque obervation représente un son d'une voyelle exprimé par un locuteur donné."
   ]
  },
  {
   "cell_type": "markdown",
   "metadata": {},
   "source": [
    "## <font color = \"darkgreen\">2- Chargement des jeux de données</font>"
   ]
  },
  {
   "cell_type": "markdown",
   "metadata": {},
   "source": [
    "Nous découpons chaque jeu de données en X et y. Pour ce faire, \n",
    "\n",
    "Développez une fonction qui charge le jeu de données depuis un fichier  et retourne deux dataframes (un pour les caractéristiques et l'autre pour la classe/labels)\n",
    "\n",
    "IL vous revient de bien analyser la structure pour determiner quelles sont les caractériqtiques et quels les calsses correspondantes (y). Néaumoins, voici quelques précisions :\n",
    "\n",
    "#### Notes : \n",
    "\n",
    "* Tous les formats sont de type csv\n",
    "* La colonne relative à la classe/label est généralement à position 0 ou à la dernière position\n",
    "* La colonne classe n'a pas le même nom dans les différents jeux de données.\n",
    "* La colonne classe n'est forcément numérique, dans ce cas la conversion s'avère nécessaire. "
   ]
  },
  {
   "cell_type": "code",
   "execution_count": 40,
   "metadata": {},
   "outputs": [],
   "source": [
    "import re\n",
    "import pandas as pd\n",
    "import numpy as np\n",
    "import sklearn as skn\n",
    "\n",
    "'''\n",
    "def read_csv_parse_labels(path: str, isFirstColumn=False):\n",
    "  df = pd.read_csv(path, low_memory=False)\n",
    "  y = None\n",
    "  if isFirstColumn:\n",
    "    y = df.iloc[:, 0]\n",
    "  else:\n",
    "    y = df.iloc[:, -1]\n",
    "\n",
    "  labels = y.unique()\n",
    "  mapping = dict(zip(labels, range(len(labels))))\n",
    "  y = y.map(mapping)\n",
    "  df.pop(y.name)\n",
    "  return df, y, labels\n",
    "'''\n",
    "\n",
    "def read_df_parse_labels(df, isFirstColumn=False):\n",
    "  y = None\n",
    "  if isFirstColumn:\n",
    "    y = df.iloc[:, 0]\n",
    "  else:\n",
    "    y = df.iloc[:, -1]\n",
    "\n",
    "  labels = y.unique()\n",
    "  mapping = dict(zip(labels, range(len(labels))))\n",
    "  y = y.map(mapping)\n",
    "  df.pop(y.name)\n",
    "  return df, y, labels"
   ]
  },
  {
   "cell_type": "code",
   "execution_count": 41,
   "metadata": {},
   "outputs": [],
   "source": [
    "df_diabetes = pd.read_csv('data/diabetes.csv')\n",
    "#df_gcm = pd.read_csv('data/GCM.csv')\n",
    "df_japanVoice = pd.read_csv('data/JapaneseVowels.csv')\n",
    "df_wallRobot = pd.read_csv('data/wall-robot-navigation.csv')\n",
    "\n"
   ]
  },
  {
   "cell_type": "markdown",
   "metadata": {},
   "source": [
    "## <font color = \"darkgreen\">3- Traitement des valeurs nulles/vides</font>\n"
   ]
  },
  {
   "cell_type": "markdown",
   "metadata": {},
   "source": [
    "* Analysez tous les jeux de données, vérifiez si dans certaines observations il existe des valeurs nulles/vides\n",
    "* Renvoyez le nombre d'obervations qui y sont concernées"
   ]
  },
  {
   "cell_type": "code",
   "execution_count": 42,
   "metadata": {},
   "outputs": [],
   "source": [
    "'''\n",
    "We normalize the data by replacing all values that matches \"nan\" or \"null\" case insensitive by Numpy.nan.\n",
    "Then we convert all the columns to be floats.\n",
    "'''\n",
    "\n",
    "def replace_integers(df):\n",
    "    for col in df.columns:\n",
    "        df[col] = pd.to_numeric(df[col], errors='coerce').fillna(np.nan)\n",
    "    return df"
   ]
  },
  {
   "cell_type": "code",
   "execution_count": 43,
   "metadata": {},
   "outputs": [],
   "source": [
    "def processNan(df, typeOp: int) -> pd.DataFrame:\n",
    "    operations = {\n",
    "        1: lambda x: x.fillna(x.mean()),\n",
    "        2: lambda x: x.fillna(x.max()),\n",
    "        3: lambda x: x.fillna(x.min()),\n",
    "        4: lambda x: x.dropna(),\n",
    "    }\n",
    "    result = operations[typeOp](df)\n",
    "    return result"
   ]
  },
  {
   "cell_type": "markdown",
   "metadata": {},
   "source": [
    " Ces observations nécessitent l'une des opérations suivantes:\n",
    "* 1- remplacer les valeurs nulles/vides par la moyenne des valeures des observations pour la caratéristique concernée, à répéter pour chaque  caratéristique.\n",
    "* 2- même opération mais cette-fois ci en calculant le maximum\n",
    "* 3- même opération mais cette-fois ci en calculant le minimum\n",
    "* 4- supprimer les observations contenant les valeurs nulles/vides.\n",
    "\n",
    " Développez une fonction (qu'on appelera processNan) qui prend en paramètres le jeu de données (dataframe) et un entier, qu'on appelera typeOp, compris dans [1,4]\n",
    " En fonction de la valeur de typeOp, vous appliquez l'une des quatre opérations sur le jeu de données fourni en paramètre."
   ]
  },
  {
   "cell_type": "code",
   "execution_count": 44,
   "metadata": {},
   "outputs": [],
   "source": [
    "df_diabetes = replace_integers(df_diabetes)\n",
    "df_diabetes = processNan(df_diabetes, 1)\n",
    "df_diabetes = read_df_parse_labels(df_diabetes)\n",
    "\n",
    "\n",
    "df_gcm = replace_integers(df_gcm)\n",
    "df_gcm = processNan(df_gcm, 1)\n",
    "df_gcm = read_df_parse_labels(df_gcm)\n",
    "\n",
    "\n",
    "df_japanVoice = replace_integers(df_japanVoice)\n",
    "df_japanVoice = processNan(df_japanVoice, 1)\n",
    "df_japanVoice = read_df_parse_labels(df_japanVoice)\n",
    "\n",
    "df_wallRobot = replace_integers(df_wallRobot)\n",
    "df_wallRobot = processNan(df_wallRobot, 1)\n",
    "df_wallRobot = read_df_parse_labels(df_wallRobot)"
   ]
  },
  {
   "cell_type": "markdown",
   "metadata": {},
   "source": [
    "## <font color = \"darkgreen\">4- Traitement des caractéristiques</font>\n"
   ]
  },
  {
   "cell_type": "markdown",
   "metadata": {},
   "source": [
    " Avant de faire appel à un modèle d'apprentissage automatique sur un jeu de données, l'étude de corrélation entre caractéristiques pourrait être menée. Si un couple de caractéristiques ayant une très forte corrélation alors l'une des deux caractéristiques est supprimée.\n",
    "\n",
    "D'après vous, pourquoi on effectue cette suppression?"
   ]
  },
  {
   "cell_type": "code",
   "execution_count": 45,
   "metadata": {},
   "outputs": [
    {
     "data": {
      "text/plain": [
       "'\\nCela nous ferais de la donnée en trop alors qu\\'elle sont \"égaux\" et ne ferais rien d\\'autre que de rajouter une nouvelle caractéristique.\\n'"
      ]
     },
     "execution_count": 45,
     "metadata": {},
     "output_type": "execute_result"
    }
   ],
   "source": [
    "'''\n",
    "Cela nous ferais de la donnée en trop alors qu'elle sont \"égaux\" et ne ferais rien d'autre que de rajouter une nouvelle caractéristique.\n",
    "'''"
   ]
  },
  {
   "cell_type": "markdown",
   "metadata": {},
   "source": [
    " L'un des moyens pour mesurer la corrélation entre deux caractéristiques est l'utilisation de la mesure de Spearman. cette dernière mesure la force et la direction de la relation n liant les deux caractéristiques.  En ce qui concerne la force de la relation, la valeur du coefficient de corrélation renvoyé par Spearman varie entre +1 et -1.  Une valeur de ± 1 indique un degré de relation parfait entre les deux variables.  Plus la valeur du coefficient de corrélation se rapproche de 0, plus la relation entre les deux variables sera faible.  La direction de la relation est indiquée par le signe du coefficient ; un signe + indique une relation positive et un signe - une relation négative. Si le coefficient est équivant à +1 (repectivement -1) alors il signifie que plus les valeurs d'une caractéristique est grande plus les valeurs de l'autre caractéristique est grande (respectivement petite). \n",
    "\n",
    " Développez une fonction qui retourne, pour une caractéristique donnée, les indices de toutes les caractéristiques dont le coefficient de corrélation retourné par la mesure de Spearman dépasse un certain seuil qu'on appelera t (entré en paramètre). \n",
    "\n",
    "\n",
    "#### Notes: \n",
    "Vous pourriez utiliser la mesure de Spearman proposée par Scipy(https://docs.scipy.org/doc/scipy/reference/generated/scipy.stats.spearmanr.html). Attention, nous nous intéressons seulement au coefficient de corrélation retournée dans la variable corrélation.  \n",
    "\n",
    "\n",
    "\n"
   ]
  },
  {
   "cell_type": "code",
   "execution_count": 46,
   "metadata": {},
   "outputs": [],
   "source": [
    "from scipy import stats\n",
    "from scipy.stats import spearmanr\n",
    "import itertools\n",
    "\n",
    "def spearman(df, t: float):\n",
    "    \n",
    "    corr_table = []\n",
    "    \n",
    "    for col1, col2 in itertools.combinations(df.columns, 2):\n",
    "        \n",
    "        # Calcul de la corrélation de Spearman entre les deux colonnes\n",
    "        corr, _ = spearmanr(df[col1], df[col2])\n",
    "        \n",
    "        # Ajout des résultats à la table de corrélation\n",
    "        if corr > t:\n",
    "            index = df.columns.get_loc(col1)\n",
    "            corr_table.append([col1, col2, corr, index])\n",
    "        \n",
    "    return corr_table\n"
   ]
  },
  {
   "cell_type": "code",
   "execution_count": 47,
   "metadata": {},
   "outputs": [
    {
     "data": {
      "text/plain": [
       "[['Pregnancies', 'Glucose', 0.13363229666503892, 0],\n",
       " ['Pregnancies', 'BloodPressure', 0.18512673205801747, 0],\n",
       " ['Pregnancies', 'Age', 0.6072163388236559, 0],\n",
       " ['Glucose', 'BloodPressure', 0.23252741923433431, 1],\n",
       " ['Glucose', 'SkinThickness', 0.04781861047345449, 1],\n",
       " ['Glucose', 'Insulin', 0.1968254606758379, 1],\n",
       " ['Glucose', 'BMI', 0.20582201915080067, 1],\n",
       " ['Glucose', 'DiabetesPedigreeFunction', 0.0630770665695292, 1],\n",
       " ['Glucose', 'Age', 0.27186816841115385, 1],\n",
       " ['BloodPressure', 'SkinThickness', 0.12666506665563632, 2],\n",
       " ['BloodPressure', 'BMI', 0.2929282475431166, 2],\n",
       " ['BloodPressure', 'DiabetesPedigreeFunction', 0.02066116660443163, 2],\n",
       " ['BloodPressure', 'Age', 0.3508945932216354, 2],\n",
       " ['SkinThickness', 'Insulin', 0.54439924155319, 3],\n",
       " ['SkinThickness', 'BMI', 0.4397916797330038, 3],\n",
       " ['SkinThickness', 'DiabetesPedigreeFunction', 0.16581503116350355, 3],\n",
       " ['Insulin', 'BMI', 0.191181741345709, 4],\n",
       " ['Insulin', 'DiabetesPedigreeFunction', 0.204870858154066, 4],\n",
       " ['BMI', 'DiabetesPedigreeFunction', 0.12494245342597647, 5],\n",
       " ['BMI', 'Age', 0.12375757113341947, 5],\n",
       " ['DiabetesPedigreeFunction', 'Age', 0.04717549438983434, 6]]"
      ]
     },
     "execution_count": 47,
     "metadata": {},
     "output_type": "execute_result"
    }
   ],
   "source": [
    "test = spearman(df_diabetes[0], 0)\n",
    "test"
   ]
  },
  {
   "cell_type": "markdown",
   "metadata": {},
   "source": [
    " Développez une fonction qui supprime d'un jeu de données des caractéristiques à partir de leur indice renseignés en paramètres sous forme de liste. Le but ici est de supprimer les caractéistiques non nécessaires.\n",
    " \n",
    " \n",
    " On peut, supprimer si on le souhaite, les caractériqtiques à partir des noms de colonnes au lieu des indices de colonnes."
   ]
  },
  {
   "cell_type": "code",
   "execution_count": 48,
   "metadata": {},
   "outputs": [],
   "source": [
    "def removeIndices(df: pd.DataFrame, indices):\n",
    "  newDf = pd.DataFrame(df)\n",
    "  newDf = newDf.drop(df.columns[indices], axis=1)\n",
    "  return newDf\n"
   ]
  },
  {
   "cell_type": "markdown",
   "metadata": {},
   "source": [
    "Développez une fonction appelée processCor qui :\n",
    "- parcourt les caractéristiques \n",
    "- et supprime à chaque fois les caractéristiques qui ont \n",
    "un coefficient de corrélation avec la caractéristique courante dépassant le seuil t. \n",
    "\n",
    "Utilisez pour cela les deux fonctions developpées précedement dans la partie 4."
   ]
  },
  {
   "cell_type": "code",
   "execution_count": 49,
   "metadata": {},
   "outputs": [],
   "source": [
    "def processCor(df: pd.DataFrame, t: float):\n",
    "  tableSpearman = spearman(df, t)\n",
    "  \n",
    "  for column_name in tableSpearman:\n",
    "    df = removeIndices(df, column_name[3])\n",
    "\n",
    "  return df"
   ]
  },
  {
   "cell_type": "code",
   "execution_count": 50,
   "metadata": {},
   "outputs": [
    {
     "data": {
      "text/html": [
       "<div>\n",
       "<style scoped>\n",
       "    .dataframe tbody tr th:only-of-type {\n",
       "        vertical-align: middle;\n",
       "    }\n",
       "\n",
       "    .dataframe tbody tr th {\n",
       "        vertical-align: top;\n",
       "    }\n",
       "\n",
       "    .dataframe thead th {\n",
       "        text-align: right;\n",
       "    }\n",
       "</style>\n",
       "<table border=\"1\" class=\"dataframe\">\n",
       "  <thead>\n",
       "    <tr style=\"text-align: right;\">\n",
       "      <th></th>\n",
       "      <th>Glucose</th>\n",
       "      <th>BloodPressure</th>\n",
       "      <th>SkinThickness</th>\n",
       "      <th>BMI</th>\n",
       "      <th>DiabetesPedigreeFunction</th>\n",
       "      <th>Age</th>\n",
       "    </tr>\n",
       "  </thead>\n",
       "  <tbody>\n",
       "    <tr>\n",
       "      <th>0</th>\n",
       "      <td>148.000000</td>\n",
       "      <td>72</td>\n",
       "      <td>35.0</td>\n",
       "      <td>33.6</td>\n",
       "      <td>0.627</td>\n",
       "      <td>50</td>\n",
       "    </tr>\n",
       "    <tr>\n",
       "      <th>1</th>\n",
       "      <td>85.000000</td>\n",
       "      <td>66</td>\n",
       "      <td>29.0</td>\n",
       "      <td>26.6</td>\n",
       "      <td>0.351</td>\n",
       "      <td>31</td>\n",
       "    </tr>\n",
       "    <tr>\n",
       "      <th>2</th>\n",
       "      <td>118.508174</td>\n",
       "      <td>64</td>\n",
       "      <td>0.0</td>\n",
       "      <td>23.3</td>\n",
       "      <td>0.672</td>\n",
       "      <td>32</td>\n",
       "    </tr>\n",
       "    <tr>\n",
       "      <th>3</th>\n",
       "      <td>89.000000</td>\n",
       "      <td>66</td>\n",
       "      <td>23.0</td>\n",
       "      <td>28.1</td>\n",
       "      <td>0.167</td>\n",
       "      <td>21</td>\n",
       "    </tr>\n",
       "    <tr>\n",
       "      <th>4</th>\n",
       "      <td>137.000000</td>\n",
       "      <td>40</td>\n",
       "      <td>35.0</td>\n",
       "      <td>43.1</td>\n",
       "      <td>2.288</td>\n",
       "      <td>33</td>\n",
       "    </tr>\n",
       "    <tr>\n",
       "      <th>...</th>\n",
       "      <td>...</td>\n",
       "      <td>...</td>\n",
       "      <td>...</td>\n",
       "      <td>...</td>\n",
       "      <td>...</td>\n",
       "      <td>...</td>\n",
       "    </tr>\n",
       "    <tr>\n",
       "      <th>763</th>\n",
       "      <td>101.000000</td>\n",
       "      <td>76</td>\n",
       "      <td>48.0</td>\n",
       "      <td>32.9</td>\n",
       "      <td>0.171</td>\n",
       "      <td>63</td>\n",
       "    </tr>\n",
       "    <tr>\n",
       "      <th>764</th>\n",
       "      <td>122.000000</td>\n",
       "      <td>70</td>\n",
       "      <td>27.0</td>\n",
       "      <td>36.8</td>\n",
       "      <td>0.340</td>\n",
       "      <td>27</td>\n",
       "    </tr>\n",
       "    <tr>\n",
       "      <th>765</th>\n",
       "      <td>121.000000</td>\n",
       "      <td>72</td>\n",
       "      <td>23.0</td>\n",
       "      <td>26.2</td>\n",
       "      <td>0.245</td>\n",
       "      <td>30</td>\n",
       "    </tr>\n",
       "    <tr>\n",
       "      <th>766</th>\n",
       "      <td>126.000000</td>\n",
       "      <td>60</td>\n",
       "      <td>0.0</td>\n",
       "      <td>30.1</td>\n",
       "      <td>0.349</td>\n",
       "      <td>47</td>\n",
       "    </tr>\n",
       "    <tr>\n",
       "      <th>767</th>\n",
       "      <td>93.000000</td>\n",
       "      <td>70</td>\n",
       "      <td>31.0</td>\n",
       "      <td>30.4</td>\n",
       "      <td>0.315</td>\n",
       "      <td>23</td>\n",
       "    </tr>\n",
       "  </tbody>\n",
       "</table>\n",
       "<p>768 rows × 6 columns</p>\n",
       "</div>"
      ],
      "text/plain": [
       "        Glucose  BloodPressure  SkinThickness   BMI  DiabetesPedigreeFunction  \\\n",
       "0    148.000000             72           35.0  33.6                     0.627   \n",
       "1     85.000000             66           29.0  26.6                     0.351   \n",
       "2    118.508174             64            0.0  23.3                     0.672   \n",
       "3     89.000000             66           23.0  28.1                     0.167   \n",
       "4    137.000000             40           35.0  43.1                     2.288   \n",
       "..          ...            ...            ...   ...                       ...   \n",
       "763  101.000000             76           48.0  32.9                     0.171   \n",
       "764  122.000000             70           27.0  36.8                     0.340   \n",
       "765  121.000000             72           23.0  26.2                     0.245   \n",
       "766  126.000000             60            0.0  30.1                     0.349   \n",
       "767   93.000000             70           31.0  30.4                     0.315   \n",
       "\n",
       "     Age  \n",
       "0     50  \n",
       "1     31  \n",
       "2     32  \n",
       "3     21  \n",
       "4     33  \n",
       "..   ...  \n",
       "763   63  \n",
       "764   27  \n",
       "765   30  \n",
       "766   47  \n",
       "767   23  \n",
       "\n",
       "[768 rows x 6 columns]"
      ]
     },
     "execution_count": 50,
     "metadata": {},
     "output_type": "execute_result"
    }
   ],
   "source": [
    "test = processCor(df_diabetes[0], 0.5)\n",
    "test"
   ]
  },
  {
   "cell_type": "markdown",
   "metadata": {},
   "source": [
    "## <font color = \"darkgreen\">5- Clustering </font>\n"
   ]
  },
  {
   "cell_type": "markdown",
   "metadata": {},
   "source": [
    " Dans cette partie, nous allons associer à un problème (jeu de données) le meilleur modèle de clustering. En conséquence, nous considérons que les jeux de données n'ont pas de labels ou de colonne classe, autrement dit on s'intéresse seulement aux caractéristiques (features). Dans ce cadre, on se focalisera que sur les méthodes de clustering :\n",
    "- Dbscan(https://scikit-learn.org/stable/modules/generated/sklearn.cluster.DBSCAN.html#sklearn.cluster.DBSCAN)\n",
    "- Clustering agglomératif(https://scikit-learn.org/stable/modules/generated/sklearn.cluster.AgglomerativeClustering.html#sklearn.cluster.AgglomerativeClustering)\n",
    "- K-means\n",
    "#### Notes:\n",
    "* Un modèle est différent d'un algorithme(méthode). Dans le contexte d'apprentissage automatique,  un algorithme est une procédure exécutée sur un jeu de données. Le modèle est le résultat produit par l'agorithme. \n",
    "* Pour fournir un résultat (modèle), l'algorithme pourrait se baser sur un ensemble d'hyperparamètres qui lui sont fournis en entrée. Un hyperparamètre est une variable qui prend une valeur parmi un ensemble ou une infinité de valeurs, son but est de contrôler le processus d'apprentissage automatique (par exemple, le clustering ou la classification supervisée). \n",
    "* Différentes valeurs des hyperparamètres pourraient aboutir à différents modèles"
   ]
  },
  {
   "cell_type": "markdown",
   "metadata": {},
   "source": [
    " Créez une collection de jeux de données appelée original_datasets. La clé correspond au nom du jeu de données et la valeur correspondante est un tuple (X,y) où X est l'ensemble des caractéristiques et y l'ensemble des labels.  \n",
    "#### Note:\n",
    "Utilisez la fonction développée dans la partie 2."
   ]
  },
  {
   "cell_type": "code",
   "execution_count": 51,
   "metadata": {},
   "outputs": [],
   "source": [
    "files = [\"data/diabetes.csv\", \"data/GCM.csv\", \"data/JapaneseVowels.csv\", \"data/wall-robot-navigation.csv\"]\n",
    "original_datasets = []\n",
    "\n",
    "for file in files:\n",
    "  X, y, labels = read_df_parse_labels(pd.read_csv(file), True)\n",
    "  original_datasets.append((X, y, file))"
   ]
  },
  {
   "cell_type": "markdown",
   "metadata": {},
   "source": [
    "Nous allons préparer les jeux de données avant leur consommation par les méthodes de clustering. Tout d'abord créez une copie de  original_datasets qu'on appelera datasets. Ensuite traitez chaque jeu de données de datasets avec les fonctions processNan et processCor. On fixera typeOp à 1 et t à 0.7."
   ]
  },
  {
   "cell_type": "code",
   "execution_count": 58,
   "metadata": {},
   "outputs": [
    {
     "name": "stdout",
     "output_type": "stream",
     "text": [
      "data/diabetes.csv\n",
      "data/JapaneseVowels.csv\n",
      "data/wall-robot-navigation.csv\n"
     ]
    }
   ],
   "source": [
    "datasets = original_datasets.copy()\n",
    "new_datasets = []\n",
    "#Traitement du datasets, on va nettoyer les dataframes qu'il contient\n",
    "#for i in range(len(datasets)):\n",
    "for i in range(len(datasets)):\n",
    "    data = datasets[i][0].copy()\n",
    "    print(datasets[i][2])\n",
    "    data = replace_integers(data)\n",
    "    data = processNan(data, 1)\n",
    "    try:\n",
    "        data = processCor(data, 0.5)\n",
    "    except:\n",
    "        pass\n",
    "    # Créer un nouveau tuple avec les données modifiées\n",
    "    modified_tuple = (datasets[0][2], data)\n",
    "    \n",
    "    # Ajouter le nouveau tuple à la nouvelle liste\n",
    "    new_datasets.append(modified_tuple)\n",
    "\n",
    "datasets = new_datasets\n"
   ]
  },
  {
   "cell_type": "code",
   "execution_count": null,
   "metadata": {},
   "outputs": [],
   "source": [
    "# testReduce = X, y, labels = read_df_parse_labels(pd.read_csv(\"data/GCM.csv\"), True)\n",
    "# testReduec"
   ]
  },
  {
   "cell_type": "code",
   "execution_count": 66,
   "metadata": {},
   "outputs": [
    {
     "data": {
      "text/plain": [
       "('data/diabetes.csv',\n",
       "          V2     V3     V4     V5     V6     V7     V8     V9    V10    V11  \\\n",
       " 0     0.498  3.625  3.645  5.000  2.918  5.000  2.351  2.332  2.643  1.698   \n",
       " 1     0.498  3.625  3.648  5.000  2.918  5.000  2.637  2.332  2.649  1.695   \n",
       " 2     0.498  3.625  3.629  5.000  2.918  5.000  2.637  2.334  2.643  1.696   \n",
       " 3     0.501  3.625  3.626  5.000  2.918  5.000  2.353  2.334  2.642  1.730   \n",
       " 4     0.498  3.626  3.629  5.000  2.918  5.000  2.640  2.334  2.639  1.696   \n",
       " ...     ...    ...    ...    ...    ...    ...    ...    ...    ...    ...   \n",
       " 5451  5.000  3.997  2.785  2.770  2.572  2.433  1.087  1.772  1.040  1.024   \n",
       " 5452  5.000  4.015  2.792  2.777  2.571  1.768  1.071  1.762  1.021  1.005   \n",
       " 5453  5.000  4.034  2.799  2.784  2.571  1.754  1.053  1.752  1.002  0.987   \n",
       " 5454  4.052  4.052  2.809  2.791  2.441  1.757  1.034  1.743  0.983  0.967   \n",
       " 5455  4.066  5.000  2.819  2.798  2.570  2.422  1.016  1.739  0.964  0.949   \n",
       " \n",
       "       ...    V16    V17    V18    V19    V20    V21    V22    V23    V24  \\\n",
       " 0     ...  0.593  0.502  0.493  0.504  0.445  0.431  0.444  0.440  0.429   \n",
       " 1     ...  0.592  0.502  0.493  0.504  0.449  0.431  0.444  0.443  0.429   \n",
       " 2     ...  0.593  0.502  0.493  0.504  0.449  0.431  0.444  0.446  0.429   \n",
       " 3     ...  0.593  0.502  0.493  0.504  0.449  0.431  0.444  0.444  0.429   \n",
       " 4     ...  0.592  0.502  0.493  0.504  0.449  0.431  0.444  0.441  0.429   \n",
       " ...   ...    ...    ...    ...    ...    ...    ...    ...    ...    ...   \n",
       " 5451  ...  0.660  0.648  0.657  0.686  5.000  1.045  5.000  5.000  1.562   \n",
       " 5452  ...  0.652  0.640  0.649  1.593  1.616  1.058  5.000  5.000  1.085   \n",
       " 5453  ...  0.648  0.633  0.642  0.741  5.000  1.065  5.000  5.000  1.105   \n",
       " 5454  ...  0.641  0.626  0.635  0.754  5.000  1.076  5.000  5.000  1.118   \n",
       " 5455  ...  0.635  0.618  0.628  0.776  5.000  1.083  5.000  5.000  1.168   \n",
       " \n",
       "       Class  \n",
       " 0         4  \n",
       " 1         4  \n",
       " 2         4  \n",
       " 3         4  \n",
       " 4         4  \n",
       " ...     ...  \n",
       " 5451      1  \n",
       " 5452      2  \n",
       " 5453      2  \n",
       " 5454      1  \n",
       " 5455      2  \n",
       " \n",
       " [5456 rows x 24 columns])"
      ]
     },
     "execution_count": 66,
     "metadata": {},
     "output_type": "execute_result"
    }
   ],
   "source": []
  },
  {
   "cell_type": "markdown",
   "metadata": {},
   "source": [
    "En utilisant la collection datasets, appelez les trois méthodes de clustering sur chaque jeu de données de la collection datasets et évaluez le résultat de  partitionnement(clustering) via:\n",
    "* Calinski Harabaz(https://scikit-learn.org/stable/modules/generated/sklearn.metrics.calinski_harabasz_score.html#sklearn.metrics.calinski_harabasz_score)\n",
    "* Davies Bouldin(https://scikit-learn.org/stable/modules/generated/sklearn.metrics.davies_bouldin_score.html#sklearn.metrics.davies_bouldin_sc)\n",
    "\n",
    "#### Notes:\n",
    "* Sachant qu'on considère que les labels ne sont pas fournis, nous évaluons les résultats aussi par des métriques d'évaluation non supervisées, c'est à dire que les métriques n'ont pas accès aux labels pour proposer un score de performance.\n",
    "* On considère que meilleur est le score des métriques d'évaluation mieux le problème associé au jeu de données est résolu.\n",
    "* Lors de l'appel des méthodes de clustering, dans cette partie on modifiera pas les valeurs des hyperparamètres, on se contentera des valeurs fixés par défaut par scikit-learn."
   ]
  },
  {
   "cell_type": "markdown",
   "metadata": {},
   "source": [
    "Associez à chaque paire \"jeu de données et méthode de clustering\" les scores retournés par les métriques d'évaluation (calinski, davies)."
   ]
  },
  {
   "cell_type": "code",
   "execution_count": null,
   "metadata": {},
   "outputs": [],
   "source": []
  },
  {
   "cell_type": "markdown",
   "metadata": {},
   "source": [
    "Pour chaque jeu de données, quelle est la méthode qui a fourni le meilleur modèle selon les scores calculés dans la question précedente."
   ]
  },
  {
   "cell_type": "code",
   "execution_count": null,
   "metadata": {},
   "outputs": [],
   "source": []
  },
  {
   "cell_type": "markdown",
   "metadata": {},
   "source": [
    "## <font color = \"darkgreen\">6- Peut-on améliorer encore les résultats de clustering? </font>"
   ]
  },
  {
   "cell_type": "markdown",
   "metadata": {},
   "source": [
    "Dans cette partie nous nous intéressons toujours au clustering mais das une perspective d'amélioration des modèles de clustering produits précedement. L'une des pistes d'amélioration des modèles est de varier les valeurs des hyper-paramètres des méthodes de clustering ainsi que les types de pré-traitement appliqués aux jeux de données. \n",
    "\n",
    "Tout d'abord développez une fonction (qu'on appellera getBestModel) qui pour une méthode de clustering donnée et un jeu de données renvoie le meilleur modèle. La fonction prend en paramètre le jeu de données X, le nom de la méthode methodName et une collection d'hyper-paramètres params. Cette collection a pour clé le nom de l'hyper-paramètre et pour valeur la liste des valeurs prises par l'hyper-paramètre. Dans cette fonction, toutes les combinaisons des valeurs des listes dans params seront évaluées et à chaque combinaison on obtiendra un modèle associée au jeu de données et à la méthode de clustering renseignés en paramètre. Chaque modèle est évalué par une métrique d'évaluation au choix (calinski ou davies). \n",
    "\n",
    "La collection params comporte les valeurs possibles des hyper-paramètres de la méthode clustering concernée ainsi que les valeurs possibles de typeOp et t. Vous avez le choix de fixer la liste de valeurs de typeOp et t. Vous pourriez commencer par évaluer [1,2,3,4] pour typeOp et [0.5, 0.7, 0.9] pour t. Les valeurs des hyper-paramètres dépendent de la méthode de clustering ciblée:\n",
    "\n",
    "* Dbscan a plusieurs hyper-paramètres dont les plus influents sont eps, min_samples et metric. Notons que eps est un réel et ne peut dépasser la distance inter-points maximale qui existe dans X, et min_samples est un entier naturel non nul inférieur au nombre d'observations dans X. Metric a par défaut la valeur euclidean, d'autres valeurs sont possibles et consultables sur https://scikit-learn.org/stable/modules/generated/sklearn.metrics.pairwise_distances.html#sklearn.metrics.pairwise_distances. Vous avez le choix de fixer les listes de ces trois hyper-paramètres. On vous suggère de ne inclure des valeurs dépassant $\\sqrt{|X|}$ pour min_samples et la moyenne des distances inter-points pour eps.\n",
    "* Clustering agglomératif a pour hyper-paramètres les plus sensibles n_clusters, distance_threshold, affinity(équivalent de metric dans Dbscan) et linkage. A savoir que soit n_clusters ou distance_threshold est utilisé pour extraire les clusters finaux, il n'est pas nécessaire d'utiliser les deux. Vous pourriez limiter la valeur de n_clusters à $\\frac{\\sqrt{|X|}}{2}$ ou limiter la valeur de distance_threshold à la moyenne des distances inter-points.\n",
    "* K-means a deux hyper-paramètres sensibles: n_clusters(nombre de clusters) et l'initialisation des centroides init{‘k-means++’, ‘random’}. \n",
    "\n",
    "#### Note:\n",
    "Vous aurez à instancier plusieurs fois la collection datasets en fonction des valeurs prises par typeOp et t.\n",
    "\n"
   ]
  },
  {
   "cell_type": "code",
   "execution_count": null,
   "metadata": {},
   "outputs": [],
   "source": []
  },
  {
   "cell_type": "markdown",
   "metadata": {},
   "source": [
    "En utilisant la fonction getBestModel, identifiez le meilleur modèle associé à chaque jeu de données et méthode de clustering."
   ]
  },
  {
   "cell_type": "code",
   "execution_count": null,
   "metadata": {},
   "outputs": [],
   "source": []
  },
  {
   "cell_type": "markdown",
   "metadata": {},
   "source": [
    "Par rapport à la partie 5, y a t-il eu des améliorations? Justifiez."
   ]
  },
  {
   "cell_type": "code",
   "execution_count": null,
   "metadata": {},
   "outputs": [],
   "source": []
  },
  {
   "cell_type": "markdown",
   "metadata": {},
   "source": [
    "## <font color = \"darkgreen\">7- La classification supervisée</font>\n"
   ]
  },
  {
   "cell_type": "markdown",
   "metadata": {},
   "source": [
    "Dans cette partie nous chercherons à résoudre les problèmes par la classification supervisée. Dans ce cas, on considère que les labels (y) sont à notre disposition. Nous nous intéressons à trois méthodes de cette catégorie:\n",
    "* arbre de décision (https://scikit-learn.org/stable/modules/generated/sklearn.tree.DecisionTreeClassifier.html#sklearn.tree.DecisionTreeClassifier)\n",
    "* KNN : https://scikit-learn.org/stable/modules/generated/sklearn.neighbors.KNeighborsClassifier.html"
   ]
  },
  {
   "cell_type": "code",
   "execution_count": null,
   "metadata": {},
   "outputs": [],
   "source": []
  },
  {
   "cell_type": "markdown",
   "metadata": {},
   "source": [
    "Instancier la collection datasets dans les mêmes conditions que celles spécifiées dans la partie 5."
   ]
  },
  {
   "cell_type": "code",
   "execution_count": null,
   "metadata": {},
   "outputs": [],
   "source": []
  },
  {
   "cell_type": "markdown",
   "metadata": {},
   "source": [
    "Sur chaque jeu de données de la collection datasets appliquez les deux méthodes de classification. A chaque application, évaluez le résultat (modèle) via les métriques d'évaluation suivantes:\n",
    "* accuracy score (https://scikit-learn.org/stable/modules/generated/sklearn.metrics.accuracy_score.html#sklearn.metrics.accuracy_score)\n",
    "* balanced accuracy score (https://scikit-learn.org/stable/modules/generated/sklearn.metrics.balanced_accuracy_score.html#sklearn.metrics.balanced_accuracy_score)\n",
    "\n",
    "#### Notes.\n",
    "* A l'appel des méthodes de classification, les valeurs des hyper-paramètres doivent restés fixés tel qu'elles sont par scikit-learn. \n",
    "* Avant d'appliquer les trois méthodes de classification sur le jeu de données, celui-ci doit être divisé en deux sous-ensembles: ensemble d'entraînement ($~80$% du jeu de données) et l'ensemble de test ($~20$%)."
   ]
  },
  {
   "cell_type": "code",
   "execution_count": null,
   "metadata": {},
   "outputs": [],
   "source": []
  },
  {
   "cell_type": "markdown",
   "metadata": {},
   "source": [
    "Quelle est la méthode ayant a fourni le meilleur modèle (c'est à dire le meilleur taux de prédiction) pour chaque jeu de données?"
   ]
  },
  {
   "cell_type": "code",
   "execution_count": null,
   "metadata": {},
   "outputs": [],
   "source": []
  },
  {
   "cell_type": "markdown",
   "metadata": {},
   "source": [
    "## <font color = \"darkgreen\">8- Peut-on encore améliorer les résultats de classification supervisée</font>\n"
   ]
  },
  {
   "cell_type": "markdown",
   "metadata": {},
   "source": [
    "Dans la même perspective que dans la partie 6, nous chercherons ici à améliorer les résultats de la classification en faisant varier les valeurs des hyper-paramètres et les types de pré-traitement des données. \n",
    "\n",
    "Reprenez la méthode gestBestModel en faisant en copie de celle-ci et en la nommant getBestModelC. Cette dernière a la même fonction que gestBestModel sauf qu'elle est adaptée pour la classification supervisée: \n",
    "* la métrique d'évaluation doit correspondre à l'une des deux métriques de la partie 7. \n",
    "* Pour faire face aux problèmes de désiquilibre de répartition de classes de points dans les sous-ensembles d'entraînement et de test, on adoptera la technique d'échantillonage suivante. A partir de chaque jeu de données, on génére 5 sous-ensembles de données disjoints. A chaque itération, un sous-ensemble est utilisé pour le test et les autres pour la phase d'entraînement. Un sous-ensemble doit être utilisé une seule fois dans la phase de test. \n",
    "\n",
    "Les listes de valeurs de typeOp et t peuvent être fixées identiquement à celles de la partie 6. \n",
    "\n"
   ]
  },
  {
   "cell_type": "code",
   "execution_count": null,
   "metadata": {},
   "outputs": [],
   "source": []
  },
  {
   "cell_type": "markdown",
   "metadata": {},
   "source": [
    "En utilisant la fonction getBestModelC, identifiez le meilleur modèle associé à chaque jeu de données et méthode de classification?"
   ]
  },
  {
   "cell_type": "code",
   "execution_count": null,
   "metadata": {},
   "outputs": [],
   "source": []
  },
  {
   "cell_type": "markdown",
   "metadata": {},
   "source": [
    "Par rapport à la partie 7, y a t-il eu des améliorations? Justifiez."
   ]
  },
  {
   "cell_type": "code",
   "execution_count": null,
   "metadata": {},
   "outputs": [],
   "source": []
  }
 ],
 "metadata": {
  "kernelspec": {
   "display_name": "Python 3",
   "language": "python",
   "name": "python3"
  },
  "language_info": {
   "codemirror_mode": {
    "name": "ipython",
    "version": 3
   },
   "file_extension": ".py",
   "mimetype": "text/x-python",
   "name": "python",
   "nbconvert_exporter": "python",
   "pygments_lexer": "ipython3",
   "version": "3.11.2"
  }
 },
 "nbformat": 4,
 "nbformat_minor": 4
}
