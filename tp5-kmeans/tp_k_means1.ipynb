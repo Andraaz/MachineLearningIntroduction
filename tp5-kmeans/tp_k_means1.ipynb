{
 "cells": [
  {
   "cell_type": "markdown",
   "metadata": {
    "id": "tIjB3XO2izmG"
   },
   "source": [
    "#                                                         Travaux pratiques sur K-means - Partie I"
   ]
  },
  {
   "cell_type": "markdown",
   "metadata": {
    "id": "ebv1RXdLJhEG"
   },
   "source": [
    "\n",
    "Dans la suite de ce document, les travaux porteront principalement sur l'agorithme de k-means. Le but de ces travaux est d'implémenter l'algorithme de k-means en python puis d'étudier des cas d'utilisation de l'algorithme. \n",
    "\n"
   ]
  },
  {
   "cell_type": "markdown",
   "metadata": {
    "id": "I863o2mb3RJY"
   },
   "source": [
    "Importer les bibliothèques nécessaires. Cette cellule sera compélétée progressivement en fonction des besoins exprimés durant les travaux."
   ]
  },
  {
   "cell_type": "code",
   "execution_count": 3,
   "metadata": {
    "id": "EoTphCIdJvAX"
   },
   "outputs": [],
   "source": [
    "import random\n",
    "import numpy as np\n",
    "\n"
   ]
  },
  {
   "cell_type": "markdown",
   "metadata": {
    "id": "tdu8w6VEjekf"
   },
   "source": [
    "## Prise en main de numpy"
   ]
  },
  {
   "cell_type": "markdown",
   "metadata": {
    "id": "VXVrw_OC3xW-"
   },
   "source": [
    "Génerer une liste de 100 valeurs aléatoires."
   ]
  },
  {
   "cell_type": "code",
   "execution_count": 4,
   "metadata": {
    "id": "5ul95788ivK4"
   },
   "outputs": [
    {
     "name": "stdout",
     "output_type": "stream",
     "text": [
      "[63, 97, 37, 55, 10, 95, 98, 34, 42, 75, 54, 1, 33, 21, 73, 78, 94, 40, 48, 64, 91, 76, 47, 60, 58, 32, 69, 87, 25, 41, 27, 61, 67, 86, 79, 28, 70, 89, 44, 23, 7, 20, 39, 5, 26, 22, 72, 71, 18, 2, 19, 46, 43, 93, 49, 88, 96, 92, 14, 62, 38, 85, 80, 45, 29, 53, 74, 31, 66, 52, 16, 59, 3, 81, 12, 68, 65, 51, 82, 0, 17, 4, 30, 99, 6, 15, 57, 13, 50, 11, 8, 35, 77, 24, 84, 36, 9, 83, 56, 90]\n"
     ]
    }
   ],
   "source": [
    "liste_entiers = random.sample(range(100), 100)\n",
    "print(liste_entiers)"
   ]
  },
  {
   "attachments": {},
   "cell_type": "markdown",
   "metadata": {
    "id": "FbeZHgYL35Iq"
   },
   "source": [
    "Créer un tableau, qu'on appelera tab, de type ndarray et de taille $10\\times 10$."
   ]
  },
  {
   "cell_type": "code",
   "execution_count": 5,
   "metadata": {
    "id": "SBrgYqpZj697"
   },
   "outputs": [
    {
     "name": "stdout",
     "output_type": "stream",
     "text": [
      "[[0. 0. 0. 0. 0. 0. 0. 0. 0. 0.]\n",
      " [0. 0. 0. 0. 0. 0. 0. 0. 0. 0.]\n",
      " [0. 0. 0. 0. 0. 0. 0. 0. 0. 0.]\n",
      " [0. 0. 0. 0. 0. 0. 0. 0. 0. 0.]\n",
      " [0. 0. 0. 0. 0. 0. 0. 0. 0. 0.]\n",
      " [0. 0. 0. 0. 0. 0. 0. 0. 0. 0.]\n",
      " [0. 0. 0. 0. 0. 0. 0. 0. 0. 0.]\n",
      " [0. 0. 0. 0. 0. 0. 0. 0. 0. 0.]\n",
      " [0. 0. 0. 0. 0. 0. 0. 0. 0. 0.]\n",
      " [0. 0. 0. 0. 0. 0. 0. 0. 0. 0.]]\n"
     ]
    }
   ],
   "source": [
    "tab = np.zeros((10, 10))\n",
    "print(tab)"
   ]
  },
  {
   "cell_type": "markdown",
   "metadata": {
    "id": "2te9wHyT36dm"
   },
   "source": [
    "Créer une fonction avg qui calcule la moyenne d'un tableau ndarray de taille $n\\times d$ donné en entrée, en résultat un tableau de taille $1\\times d$ est fourni."
   ]
  },
  {
   "cell_type": "code",
   "execution_count": null,
   "metadata": {
    "id": "-GvZnmu-j_mT"
   },
   "outputs": [],
   "source": []
  },
  {
   "cell_type": "markdown",
   "metadata": {
    "id": "21GxpxNy37rD"
   },
   "source": [
    "Exécuter la fonction avg sur tab. "
   ]
  },
  {
   "cell_type": "code",
   "execution_count": null,
   "metadata": {
    "id": "gQDuyp3UkMks"
   },
   "outputs": [],
   "source": []
  },
  {
   "cell_type": "markdown",
   "metadata": {
    "id": "1H3X9dBJ38jo"
   },
   "source": [
    "Créer une fonction, diff, qui calcule la différence entre un tableau ndarray de taille $n\\times d$ appelé t1 et un tableau ndarray de taille $1\\times d$ appelé t2, le résultat donné est un tableau ndarray de taille $n\\times d$. A noter que la différence est opérée entre chaque ligne de t1 et l'unique ligne de t2."
   ]
  },
  {
   "cell_type": "code",
   "execution_count": null,
   "metadata": {
    "id": "8fkLEdU-kQgA"
   },
   "outputs": [],
   "source": [
    " "
   ]
  },
  {
   "cell_type": "markdown",
   "metadata": {
    "id": "oP7ctwsP39Gx"
   },
   "source": [
    "Générer 10 valeurs aléatoires et transformer cette liste en tableau ndarray de taille $1\\times 10$.\n",
    "Puis exécuter diff sur tab et ce tableau nouvellement généré."
   ]
  },
  {
   "cell_type": "code",
   "execution_count": null,
   "metadata": {
    "id": "-C6huSf8kRQU"
   },
   "outputs": [],
   "source": []
  },
  {
   "cell_type": "markdown",
   "metadata": {
    "id": "GTUoUCIN6FRt"
   },
   "source": [
    "Créer une fonction, appelée l2, qui calcule la distance euclidienne entre deux points donnés en entrée. Ces points sont de taille $1\\times d$. "
   ]
  },
  {
   "cell_type": "code",
   "execution_count": null,
   "metadata": {
    "id": "WttD0Qxz6QXA"
   },
   "outputs": [],
   "source": []
  },
  {
   "cell_type": "markdown",
   "metadata": {
    "id": "0eGlX1G46RQF"
   },
   "source": [
    "Créer une fonction, appelée l1, qui calcule la distance de Manhattan  entre deux points donnés en entrée. Ces points sont de taille $1\\times d$. "
   ]
  },
  {
   "cell_type": "code",
   "execution_count": null,
   "metadata": {
    "id": "tXJfBqnqUypN"
   },
   "outputs": [],
   "source": []
  },
  {
   "cell_type": "markdown",
   "metadata": {
    "id": "sdL9ZSz3VlDb"
   },
   "source": [
    "Créer une fonction, appelée frobenius_norm, qui reçoit un tableau ndarray de taille $n\\times d$ et renvoie le résultat de l'opération suivante:\n",
    "\n",
    "\\begin{equation*}\n",
    "\\sqrt{ \\sum_{i=1}^m \\sum_{j=1}^d |a_{ij}|^2 }  \n",
    "\\end{equation*}"
   ]
  },
  {
   "cell_type": "code",
   "execution_count": null,
   "metadata": {
    "id": "vba8AEoiVmBR"
   },
   "outputs": [],
   "source": []
  },
  {
   "cell_type": "markdown",
   "metadata": {
    "id": "8HjkJc5pk67I"
   },
   "source": [
    "## Implémentation de k-means"
   ]
  },
  {
   "cell_type": "markdown",
   "metadata": {
    "id": "no5w_16mlGfW"
   },
   "source": [
    "Dans cette partie, nous allons implémenter l'agorithme de k-means."
   ]
  },
  {
   "cell_type": "markdown",
   "metadata": {
    "id": "ccChlN4l4cnE"
   },
   "source": [
    "Créer une fonction f0 qui choisit k (entier naturel positif) points au hasard à partir d'un jeu de données donné en entrée. L'entier k est aussi donné en entrée de la fonction f0."
   ]
  },
  {
   "cell_type": "code",
   "execution_count": null,
   "metadata": {
    "id": "ubRvy6EUkR7P"
   },
   "outputs": [],
   "source": []
  },
  {
   "cell_type": "markdown",
   "metadata": {
    "id": "4VJPRJXl4dPJ"
   },
   "source": [
    "Créer une fonction f1 qui calcule la distance entre chaque point d'un jeu de données donné en entrée et les k centroides donnés en entrée. La mesure de distance est aussi renseignée (par exemple euclidienne, manhattan...).\n",
    "En sortie, une liste de clusters est attendue. Chaque cluster correspond à la liste d'indices de ses points.\n",
    "\n",
    "Note: La distance euclidienne est le choix par défaut si l'utilisateur ne renseigne aucune mesure de distance. "
   ]
  },
  {
   "cell_type": "code",
   "execution_count": null,
   "metadata": {
    "id": "DfnZ-8FilsIP"
   },
   "outputs": [],
   "source": []
  },
  {
   "cell_type": "markdown",
   "metadata": {
    "id": "Vg7fpoP94d-4"
   },
   "source": [
    "Créer la fonction f2 qui calcule les centroïdes des clusters nouvellement constitués."
   ]
  },
  {
   "cell_type": "code",
   "execution_count": null,
   "metadata": {
    "id": "8v795LmHmeRw"
   },
   "outputs": [],
   "source": []
  },
  {
   "cell_type": "markdown",
   "metadata": {
    "id": "V33ZFcUw4fKx"
   },
   "source": [
    "Créer la fonction f3 qui vérifie s'il y a convergence de k-means. La fonction f3 doit proposer trois moyens de vérification de la convergence:\n",
    "- les centroïdes de l'itération précédente sont les mêmes que ceux de l'iteration actuelle;\n",
    "- la norme de Frobenius de la différence des valeurs des centroides de deux itérations consécutives ne dépasse pas un seuil donné en paramètre par l'utilisateur (par exemple 0.001)\n",
    "- le seuil maximal d'itérations est dépassé (seuil renseigné par l'utilisateur). Ce choix est une option par défaut, la valeur par défaut est fixée à 30."
   ]
  },
  {
   "cell_type": "code",
   "execution_count": null,
   "metadata": {
    "id": "ff_O-cXqm1vB"
   },
   "outputs": [],
   "source": []
  },
  {
   "cell_type": "markdown",
   "metadata": {
    "id": "0QyLHTN14gFd"
   },
   "source": [
    "Créer la fonction, appelée run, qui exécute itérativement les trois fonctions f1, f2, f3 jusqu'à convergence. \n",
    "La fonction f0 est appelée une seule fois à la première itération.\n",
    "Dans cette même fonction run, proposer la visualisation des centroides et les clusters associés. A chaque cluster on associe une couleur. \n",
    "La visualisation n'est lancée seulement si l'utilisateur le souhaite. "
   ]
  },
  {
   "cell_type": "code",
   "execution_count": null,
   "metadata": {
    "id": "ZAfsLBuNnr6C"
   },
   "outputs": [],
   "source": []
  },
  {
   "cell_type": "markdown",
   "metadata": {
    "id": "6HMYyLVVN1g5"
   },
   "source": [
    "# Application de k-means sur un jeu de données synthétique"
   ]
  },
  {
   "cell_type": "markdown",
   "metadata": {
    "id": "GTcVgq0FOJHx"
   },
   "source": [
    "Générer un jeu de données synthétique via la méthode make_blobs (https://scikit-learn.org/stable/modules/generated/sklearn.datasets.make_blobs.ht). Fixer le nombre de points (n_samples) à 2000 et le nombre de clusters (centers) à 4."
   ]
  },
  {
   "cell_type": "code",
   "execution_count": null,
   "metadata": {
    "id": "Cz3YhEfsOHY-"
   },
   "outputs": [],
   "source": []
  },
  {
   "cell_type": "markdown",
   "metadata": {
    "id": "pVRGbaG9PTwy"
   },
   "source": [
    "Appliquer k-means sur ce jeu de données avec $k=4$. Visualiser le résultat final."
   ]
  },
  {
   "cell_type": "code",
   "execution_count": null,
   "metadata": {
    "id": "F0Y889YePfGX"
   },
   "outputs": [],
   "source": []
  },
  {
   "cell_type": "markdown",
   "metadata": {
    "id": "Mz3jqPQbPgPq"
   },
   "source": [
    "Relancer k-means et visualiser les résultats de 10 premières itérations."
   ]
  },
  {
   "cell_type": "code",
   "execution_count": null,
   "metadata": {
    "id": "5nLTaPiuP04E"
   },
   "outputs": [],
   "source": []
  },
  {
   "cell_type": "markdown",
   "metadata": {
    "id": "MA-LYFi5P3-O"
   },
   "source": [
    "Relancer k-means en variant les différents choix de vérification de la convergence. Que constatez-vous?\n",
    "\n",
    "Note: les centroides initiaux et la mesure de distance doivent être les mêmes pour chacun des choix."
   ]
  },
  {
   "cell_type": "code",
   "execution_count": null,
   "metadata": {
    "id": "_HOmh5rYQbni"
   },
   "outputs": [],
   "source": []
  },
  {
   "cell_type": "markdown",
   "metadata": {
    "id": "KrFOQQGeQofw"
   },
   "source": [
    "Créer un autre jeu de données synthétique. Choisissez un nombre de clusters et un nombre de points que vous souhaitez. Puis lancer à nouveau k-means avec k égal au nombre de clusters choisi. \n",
    "\n",
    "Note: vous pourriez créer optionnellement  un jeu de données plus personnalisé en jouant sur les valeurs des paramètres centers, cluster_std et center_box."
   ]
  },
  {
   "cell_type": "code",
   "execution_count": null,
   "metadata": {
    "id": "sy_WtQGASwXu"
   },
   "outputs": [],
   "source": []
  },
  {
   "cell_type": "markdown",
   "metadata": {
    "id": "RlJtXZ3n7cIV"
   },
   "source": [
    "## Application de k-means sur une image"
   ]
  },
  {
   "cell_type": "markdown",
   "metadata": {
    "id": "5EcMbdvR7l8b"
   },
   "source": [
    "Dans cette partie, nous allons effectuer une fragmentation de l'image \"nature.jpg\". Cela aboutira à plusieurs parties de forme variable représentant différents objects dans l'image."
   ]
  },
  {
   "cell_type": "markdown",
   "metadata": {
    "id": "ppojh1YBHduG"
   },
   "source": [
    "Charger l'image nature.jpg avec la bibliothèque cv2. Puis afficher l'image."
   ]
  },
  {
   "cell_type": "code",
   "execution_count": null,
   "metadata": {
    "id": "63E6LJVqHqd2"
   },
   "outputs": [],
   "source": []
  },
  {
   "cell_type": "markdown",
   "metadata": {
    "id": "7iCcTtEOHsO7"
   },
   "source": [
    "Quelle est la taille de l'image? Stocker cette taille dans une variable appelée taille_originale."
   ]
  },
  {
   "cell_type": "code",
   "execution_count": null,
   "metadata": {
    "id": "4ntQL1huHz-g"
   },
   "outputs": [],
   "source": []
  },
  {
   "cell_type": "markdown",
   "metadata": {
    "id": "CcXCpF9DH5gU"
   },
   "source": [
    "Convertir l'image chargée à la taille $n\\times 3$ avec $n$ le nombre de pixels et 3 le nombre de cannaux de couleurs. Puis afficher dans un graphe 3D l'image. "
   ]
  },
  {
   "cell_type": "code",
   "execution_count": null,
   "metadata": {
    "id": "cUcqUjPMJB03"
   },
   "outputs": [],
   "source": []
  },
  {
   "cell_type": "markdown",
   "metadata": {
    "id": "AklCABl8JCtU"
   },
   "source": [
    "Appliquer k-means sur l'image avec $k=3$. \n",
    "\n",
    "Note: si le temps d'exécution est relativement lent (dépassant 10 minutes), réduisez la taille de l'image avec la fonction resize proposée par la bibliothèque cv2 puis réexécuter les questions précédentes de cette partie."
   ]
  },
  {
   "cell_type": "code",
   "execution_count": null,
   "metadata": {
    "id": "WjVmU_BbMc0K"
   },
   "outputs": [],
   "source": []
  },
  {
   "cell_type": "markdown",
   "metadata": {
    "id": "i-xTJCdtL1lt"
   },
   "source": [
    "Créer un tableau ndarray de taille $n\\times 3$ contenant la valeur du centroide le plus proche de chaque point (pixel)."
   ]
  },
  {
   "cell_type": "code",
   "execution_count": null,
   "metadata": {
    "id": "L6dXSYSEMHFN"
   },
   "outputs": [],
   "source": []
  },
  {
   "cell_type": "markdown",
   "metadata": {
    "id": "3KwvYkdUMH58"
   },
   "source": [
    "Convertir la taille de ce tableau à taille originale de l'image.  "
   ]
  },
  {
   "cell_type": "code",
   "execution_count": null,
   "metadata": {
    "id": "l92AYWVhMaFn"
   },
   "outputs": [],
   "source": []
  },
  {
   "cell_type": "markdown",
   "metadata": {
    "id": "qs2CMaIZMa01"
   },
   "source": [
    "Visualiser l'image originale et l'image obtenue via k-means. Qu'observez-vous?"
   ]
  },
  {
   "cell_type": "code",
   "execution_count": null,
   "metadata": {
    "id": "fuaOjHj-Mscg"
   },
   "outputs": [],
   "source": []
  },
  {
   "cell_type": "markdown",
   "metadata": {
    "id": "DF7bCO9d_m4l"
   },
   "source": [
    "Références:\n",
    "- https://docs.anaconda.com/anaconda/install/windows/\n",
    "- https://docs.python.org/3/library/random.html\n",
    "- https://numpy.org/doc/stable/numpy-ref.pdf\n",
    "- https://numpy.org/\n",
    "- https://matplotlib.org/stable/tutorials/index.html\n",
    "- https://docs.opencv.org/3.0-beta/modules/imgcodecs/doc/reading_and_writing_images.html \n",
    "- https://docs.opencv.org/3.0-beta/modules/imgproc/doc/geometric_transformations.html?highlight=resize#cv2.resize"
   ]
  }
 ],
 "metadata": {
  "colab": {
   "collapsed_sections": [],
   "name": "tp_k-means1.ipynb",
   "provenance": []
  },
  "kernelspec": {
   "display_name": "Python 3",
   "language": "python",
   "name": "python3"
  },
  "language_info": {
   "codemirror_mode": {
    "name": "ipython",
    "version": 3
   },
   "file_extension": ".py",
   "mimetype": "text/x-python",
   "name": "python",
   "nbconvert_exporter": "python",
   "pygments_lexer": "ipython3",
   "version": "3.11.2"
  }
 },
 "nbformat": 4,
 "nbformat_minor": 1
}
