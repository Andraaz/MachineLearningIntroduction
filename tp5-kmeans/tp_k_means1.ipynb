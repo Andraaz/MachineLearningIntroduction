{
 "cells": [
  {
   "cell_type": "markdown",
   "metadata": {
    "id": "tIjB3XO2izmG"
   },
   "source": [
    "#                                                         Travaux pratiques sur K-means - Partie I"
   ]
  },
  {
   "cell_type": "markdown",
   "metadata": {
    "id": "ebv1RXdLJhEG"
   },
   "source": [
    "\n",
    "Dans la suite de ce document, les travaux porteront principalement sur l'agorithme de k-means. Le but de ces travaux est d'implémenter l'algorithme de k-means en python puis d'étudier des cas d'utilisation de l'algorithme. \n",
    "\n"
   ]
  },
  {
   "cell_type": "markdown",
   "metadata": {
    "id": "I863o2mb3RJY"
   },
   "source": [
    "Importer les bibliothèques nécessaires. Cette cellule sera compélétée progressivement en fonction des besoins exprimés durant les travaux."
   ]
  },
  {
   "cell_type": "code",
   "execution_count": 3,
   "metadata": {
    "id": "EoTphCIdJvAX"
   },
   "outputs": [],
   "source": [
    "import random\n",
    "import numpy as np\n",
    "\n"
   ]
  },
  {
   "cell_type": "markdown",
   "metadata": {
    "id": "tdu8w6VEjekf"
   },
   "source": [
    "## Prise en main de numpy"
   ]
  },
  {
   "cell_type": "markdown",
   "metadata": {
    "id": "VXVrw_OC3xW-"
   },
   "source": [
    "Génerer une liste de 100 valeurs aléatoires."
   ]
  },
  {
   "cell_type": "code",
   "execution_count": 4,
   "metadata": {
    "id": "5ul95788ivK4"
   },
   "outputs": [
    {
     "name": "stdout",
     "output_type": "stream",
     "text": [
      "[80, 25, 26, 88, 65, 7, 5, 70, 73, 36, 51, 29, 99, 18, 20, 11, 42, 57, 40, 82, 92, 12, 49, 86, 94, 46, 85, 60, 15, 16, 84, 23, 45, 17, 34, 32, 48, 64, 1, 61, 89, 14, 78, 79, 27, 0, 22, 56, 30, 37, 68, 3, 67, 31, 93, 43, 2, 13, 8, 81, 66, 71, 98, 10, 39, 75, 74, 58, 53, 77, 87, 72, 54, 95, 28, 63, 41, 35, 33, 47, 6, 69, 97, 21, 90, 52, 76, 19, 4, 44, 24, 55, 38, 9, 50, 91, 83, 59, 62, 96]\n"
     ]
    }
   ],
   "source": [
    "liste_entiers = random.sample(range(100), 100)\n",
    "print(liste_entiers)"
   ]
  },
  {
   "attachments": {},
   "cell_type": "markdown",
   "metadata": {
    "id": "FbeZHgYL35Iq"
   },
   "source": [
    "Créer un tableau, qu'on appelera tab, de type ndarray et de taille $10\\times 10$."
   ]
  },
  {
   "cell_type": "code",
   "execution_count": 5,
   "metadata": {
    "id": "SBrgYqpZj697"
   },
   "outputs": [
    {
     "name": "stdout",
     "output_type": "stream",
     "text": [
      "[[0. 0. 0. 0. 0. 0. 0. 0. 0. 0.]\n",
      " [0. 0. 0. 0. 0. 0. 0. 0. 0. 0.]\n",
      " [0. 0. 0. 0. 0. 0. 0. 0. 0. 0.]\n",
      " [0. 0. 0. 0. 0. 0. 0. 0. 0. 0.]\n",
      " [0. 0. 0. 0. 0. 0. 0. 0. 0. 0.]\n",
      " [0. 0. 0. 0. 0. 0. 0. 0. 0. 0.]\n",
      " [0. 0. 0. 0. 0. 0. 0. 0. 0. 0.]\n",
      " [0. 0. 0. 0. 0. 0. 0. 0. 0. 0.]\n",
      " [0. 0. 0. 0. 0. 0. 0. 0. 0. 0.]\n",
      " [0. 0. 0. 0. 0. 0. 0. 0. 0. 0.]]\n"
     ]
    }
   ],
   "source": [
    "tab = np.zeros((10, 10))\n",
    "print(tab)"
   ]
  },
  {
   "cell_type": "markdown",
   "metadata": {},
   "source": [
    "Créer une fonction avg qui calcule la moyenne d'un tableau ndarray de taille $n\\times d$ donné en entrée, en résultat un tableau de taille $1\\times d$ est fourni."
   ]
  },
  {
   "cell_type": "code",
   "execution_count": 6,
   "metadata": {
    "id": "-GvZnmu-j_mT"
   },
   "outputs": [],
   "source": [
    "def avg(ndarray):\n",
    "    return np.mean(ndarray, axis=0)"
   ]
  },
  {
   "cell_type": "markdown",
   "metadata": {
    "id": "21GxpxNy37rD"
   },
   "source": [
    "Exécuter la fonction avg sur tab. "
   ]
  },
  {
   "cell_type": "code",
   "execution_count": 7,
   "metadata": {
    "id": "gQDuyp3UkMks"
   },
   "outputs": [
    {
     "data": {
      "text/plain": [
       "array([0., 0., 0., 0., 0., 0., 0., 0., 0., 0.])"
      ]
     },
     "execution_count": 7,
     "metadata": {},
     "output_type": "execute_result"
    }
   ],
   "source": [
    "result = avg(tab)\n",
    "result"
   ]
  },
  {
   "cell_type": "markdown",
   "metadata": {
    "id": "1H3X9dBJ38jo"
   },
   "source": [
    "Créer une fonction, diff, qui calcule la différence entre un tableau ndarray de taille $n\\times d$ appelé t1 et un tableau ndarray de taille $1\\times d$ appelé t2, le résultat donné est un tableau ndarray de taille $n\\times d$. A noter que la différence est opérée entre chaque ligne de t1 et l'unique ligne de t2."
   ]
  },
  {
   "cell_type": "code",
   "execution_count": 8,
   "metadata": {
    "id": "8fkLEdU-kQgA"
   },
   "outputs": [],
   "source": [
    "def diff(t1, t2):\n",
    "    return t1 - t2"
   ]
  },
  {
   "cell_type": "markdown",
   "metadata": {
    "id": "oP7ctwsP39Gx"
   },
   "source": [
    "Générer 10 valeurs aléatoires et transformer cette liste en tableau ndarray de taille $1\\times 10$.\n",
    "Puis exécuter diff sur tab et ce tableau nouvellement généré."
   ]
  },
  {
   "cell_type": "code",
   "execution_count": 17,
   "metadata": {
    "id": "-C6huSf8kRQU"
   },
   "outputs": [
    {
     "name": "stdout",
     "output_type": "stream",
     "text": [
      "Tab :  [[0. 0. 0. 0. 0. 0. 0. 0. 0. 0.]\n",
      " [0. 0. 0. 0. 0. 0. 0. 0. 0. 0.]\n",
      " [0. 0. 0. 0. 0. 0. 0. 0. 0. 0.]\n",
      " [0. 0. 0. 0. 0. 0. 0. 0. 0. 0.]\n",
      " [0. 0. 0. 0. 0. 0. 0. 0. 0. 0.]\n",
      " [0. 0. 0. 0. 0. 0. 0. 0. 0. 0.]\n",
      " [0. 0. 0. 0. 0. 0. 0. 0. 0. 0.]\n",
      " [0. 0. 0. 0. 0. 0. 0. 0. 0. 0.]\n",
      " [0. 0. 0. 0. 0. 0. 0. 0. 0. 0.]\n",
      " [0. 0. 0. 0. 0. 0. 0. 0. 0. 0.]]\n",
      "T2 :  [0.2188668  0.29429702 0.83695718 0.51244138 0.72919691 0.32470714\n",
      " 0.76106692 0.37987903 0.22523713 0.8133488 ]\n",
      "Résultat :  [[-0.2188668  -0.29429702 -0.83695718 -0.51244138 -0.72919691 -0.32470714\n",
      "  -0.76106692 -0.37987903 -0.22523713 -0.8133488 ]\n",
      " [-0.2188668  -0.29429702 -0.83695718 -0.51244138 -0.72919691 -0.32470714\n",
      "  -0.76106692 -0.37987903 -0.22523713 -0.8133488 ]\n",
      " [-0.2188668  -0.29429702 -0.83695718 -0.51244138 -0.72919691 -0.32470714\n",
      "  -0.76106692 -0.37987903 -0.22523713 -0.8133488 ]\n",
      " [-0.2188668  -0.29429702 -0.83695718 -0.51244138 -0.72919691 -0.32470714\n",
      "  -0.76106692 -0.37987903 -0.22523713 -0.8133488 ]\n",
      " [-0.2188668  -0.29429702 -0.83695718 -0.51244138 -0.72919691 -0.32470714\n",
      "  -0.76106692 -0.37987903 -0.22523713 -0.8133488 ]\n",
      " [-0.2188668  -0.29429702 -0.83695718 -0.51244138 -0.72919691 -0.32470714\n",
      "  -0.76106692 -0.37987903 -0.22523713 -0.8133488 ]\n",
      " [-0.2188668  -0.29429702 -0.83695718 -0.51244138 -0.72919691 -0.32470714\n",
      "  -0.76106692 -0.37987903 -0.22523713 -0.8133488 ]\n",
      " [-0.2188668  -0.29429702 -0.83695718 -0.51244138 -0.72919691 -0.32470714\n",
      "  -0.76106692 -0.37987903 -0.22523713 -0.8133488 ]\n",
      " [-0.2188668  -0.29429702 -0.83695718 -0.51244138 -0.72919691 -0.32470714\n",
      "  -0.76106692 -0.37987903 -0.22523713 -0.8133488 ]\n",
      " [-0.2188668  -0.29429702 -0.83695718 -0.51244138 -0.72919691 -0.32470714\n",
      "  -0.76106692 -0.37987903 -0.22523713 -0.8133488 ]]\n"
     ]
    }
   ],
   "source": [
    "t2 = np.random.rand(10)\n",
    "resultat = diff(tab, t2)\n",
    "print(\"Tab : \", tab)\n",
    "print(\"T2 : \", t2)\n",
    "print(\"Résultat : \", resultat)"
   ]
  },
  {
   "cell_type": "markdown",
   "metadata": {
    "id": "GTUoUCIN6FRt"
   },
   "source": [
    "Créer une fonction, appelée l2, qui calcule la distance euclidienne entre deux points donnés en entrée. Ces points sont de taille $1\\times d$. "
   ]
  },
  {
   "cell_type": "code",
   "execution_count": 18,
   "metadata": {
    "id": "WttD0Qxz6QXA"
   },
   "outputs": [],
   "source": [
    "def l2(point1, point2):\n",
    "    return np.sqrt(np.sum((point1 - point2)**2))"
   ]
  },
  {
   "cell_type": "markdown",
   "metadata": {
    "id": "0eGlX1G46RQF"
   },
   "source": [
    "Créer une fonction, appelée l1, qui calcule la distance de Manhattan  entre deux points donnés en entrée. Ces points sont de taille $1\\times d$. "
   ]
  },
  {
   "cell_type": "code",
   "execution_count": null,
   "metadata": {
    "id": "tXJfBqnqUypN"
   },
   "outputs": [],
   "source": [
    "def l1(point1, point2):\n",
    "    \"\"\"Calcule la distance de Manhattan entre deux points\"\"\"\n",
    "    return np.sum(np.abs(point1 - point2))"
   ]
  },
  {
   "cell_type": "markdown",
   "metadata": {
    "id": "sdL9ZSz3VlDb"
   },
   "source": [
    "Créer une fonction, appelée frobenius_norm, qui reçoit un tableau ndarray de taille $n\\times d$ et renvoie le résultat de l'opération suivante:\n",
    "\n",
    "\\begin{equation*}\n",
    "\\sqrt{ \\sum_{i=1}^m \\sum_{j=1}^d |a_{ij}|^2 }  \n",
    "\\end{equation*}"
   ]
  },
  {
   "cell_type": "code",
   "execution_count": 19,
   "metadata": {
    "id": "vba8AEoiVmBR"
   },
   "outputs": [],
   "source": [
    "def frobenius_norm(array):\n",
    "    \"\"\"Calcule la norme de Frobenius d'un tableau ndarray\"\"\"\n",
    "    return np.sqrt(np.sum(array**2))"
   ]
  },
  {
   "cell_type": "markdown",
   "metadata": {
    "id": "8HjkJc5pk67I"
   },
   "source": [
    "## Implémentation de k-means"
   ]
  },
  {
   "cell_type": "markdown",
   "metadata": {
    "id": "no5w_16mlGfW"
   },
   "source": [
    "Dans cette partie, nous allons implémenter l'agorithme de k-means."
   ]
  },
  {
   "cell_type": "markdown",
   "metadata": {
    "id": "ccChlN4l4cnE"
   },
   "source": [
    "Créer une fonction f0 qui choisit k (entier naturel positif) points au hasard à partir d'un jeu de données donné en entrée. L'entier k est aussi donné en entrée de la fonction f0."
   ]
  },
  {
   "cell_type": "code",
   "execution_count": 20,
   "metadata": {
    "id": "ubRvy6EUkR7P"
   },
   "outputs": [],
   "source": [
    "def f0(data, k):\n",
    "    \"\"\"Choisit k points au hasard à partir d'un jeu de données\"\"\"\n",
    "    indices = np.random.choice(data.shape[0], k, replace=False)\n",
    "    return data[indices]"
   ]
  },
  {
   "cell_type": "markdown",
   "metadata": {
    "id": "4VJPRJXl4dPJ"
   },
   "source": [
    "Créer une fonction f1 qui calcule la distance entre chaque point d'un jeu de données donné en entrée et les k centroides donnés en entrée. La mesure de distance est aussi renseignée (par exemple euclidienne, manhattan...).\n",
    "En sortie, une liste de clusters est attendue. Chaque cluster correspond à la liste d'indices de ses points.\n",
    "\n",
    "Note: La distance euclidienne est le choix par défaut si l'utilisateur ne renseigne aucune mesure de distance. "
   ]
  },
  {
   "cell_type": "code",
   "execution_count": 22,
   "metadata": {
    "id": "DfnZ-8FilsIP"
   },
   "outputs": [],
   "source": [
    "def f1(data, centroids, distance='euclidean'):\n",
    "    \"\"\"Calcule la distance entre chaque point et les k centroides donnés en entrée\"\"\"\n",
    "    \n",
    "    # Déterminer la fonction de distance à utiliser\n",
    "    if distance == 'euclidean':\n",
    "        dist_func = lambda x, y: np.sqrt(np.sum((x - y)**2))\n",
    "    elif distance == 'manhattan':\n",
    "        dist_func = lambda x, y: np.sum(np.abs(x - y))\n",
    "    else:\n",
    "        raise ValueError('La mesure de distance spécifiée est invalide')\n",
    "    \n",
    "    # Initialiser les clusters\n",
    "    clusters = [[] for _ in range(len(centroids))]\n",
    "    \n",
    "    # Assigner chaque point au cluster le plus proche\n",
    "    for i, point in enumerate(data):\n",
    "        dist_to_centroids = [dist_func(point, centroid) for centroid in centroids]\n",
    "        closest_centroid_index = np.argmin(dist_to_centroids)\n",
    "        clusters[closest_centroid_index].append(i)\n",
    "    \n",
    "    return clusters"
   ]
  },
  {
   "cell_type": "markdown",
   "metadata": {
    "id": "Vg7fpoP94d-4"
   },
   "source": [
    "Créer la fonction f2 qui calcule les centroïdes des clusters nouvellement constitués."
   ]
  },
  {
   "cell_type": "code",
   "execution_count": 23,
   "metadata": {
    "id": "8v795LmHmeRw"
   },
   "outputs": [],
   "source": [
    "def f2(data, clusters):\n",
    "    \"\"\"Calcule les centroïdes des clusters nouvellement constitués\"\"\"\n",
    "    \n",
    "    centroids = []\n",
    "    \n",
    "    for cluster in clusters:\n",
    "        if len(cluster) == 0:\n",
    "            # Si un cluster est vide, nous ne pouvons pas calculer son centroïde\n",
    "            # Dans ce cas, nous initialisons le centroïde à un vecteur nul\n",
    "            centroid = np.zeros(data.shape[1])\n",
    "        else:\n",
    "            # Nous calculons le centroïde en prenant la moyenne des points du cluster\n",
    "            centroid = np.mean(data[cluster], axis=0)\n",
    "        centroids.append(centroid)\n",
    "    \n",
    "    return np.array(centroids)\n"
   ]
  },
  {
   "cell_type": "markdown",
   "metadata": {
    "id": "V33ZFcUw4fKx"
   },
   "source": [
    "Créer la fonction f3 qui vérifie s'il y a convergence de k-means. La fonction f3 doit proposer trois moyens de vérification de la convergence:\n",
    "- les centroïdes de l'itération précédente sont les mêmes que ceux de l'iteration actuelle;\n",
    "- la norme de Frobenius de la différence des valeurs des centroides de deux itérations consécutives ne dépasse pas un seuil donné en paramètre par l'utilisateur (par exemple 0.001)\n",
    "- le seuil maximal d'itérations est dépassé (seuil renseigné par l'utilisateur). Ce choix est une option par défaut, la valeur par défaut est fixée à 30."
   ]
  },
  {
   "cell_type": "code",
   "execution_count": 24,
   "metadata": {
    "id": "ff_O-cXqm1vB"
   },
   "outputs": [],
   "source": [
    "def f3(centroids_old, centroids_new, threshold_fro, max_iter):\n",
    "    \"\"\"Vérifie s'il y a convergence de k-means en utilisant trois critères différents\"\"\"\n",
    "    \n",
    "    # Vérification de la convergence basée sur les centroïdes\n",
    "    if np.array_equal(centroids_old, centroids_new):\n",
    "        return True\n",
    "    \n",
    "    # Vérification de la convergence basée sur la norme de Frobenius\n",
    "    if np.linalg.norm(centroids_old - centroids_new) < threshold_fro:\n",
    "        return True\n",
    "    \n",
    "    # Vérification du nombre maximal d'itérations\n",
    "    if max_iter <= 0:\n",
    "        return True\n",
    "    \n",
    "    return False"
   ]
  },
  {
   "cell_type": "markdown",
   "metadata": {
    "id": "0QyLHTN14gFd"
   },
   "source": [
    "Créer la fonction, appelée run, qui exécute itérativement les trois fonctions f1, f2, f3 jusqu'à convergence. \n",
    "La fonction f0 est appelée une seule fois à la première itération.\n",
    "Dans cette même fonction run, proposer la visualisation des centroides et les clusters associés. A chaque cluster on associe une couleur. \n",
    "La visualisation n'est lancée seulement si l'utilisateur le souhaite. "
   ]
  },
  {
   "cell_type": "code",
   "execution_count": null,
   "metadata": {
    "id": "ZAfsLBuNnr6C"
   },
   "outputs": [],
   "source": [
    "import matplotlib.pyplot as plt\n",
    "from typing import List\n",
    "\n",
    "\n",
    "def run(data: np.ndarray, k: int, distance='euclidean', threshold=0.001, max_iterations=30, show_plot=True):\n",
    "    # Initialisation\n",
    "    centroids = f0(data, k)\n",
    "    clusters = [[] for _ in range(k)]\n",
    "    previous_centroids = np.zeros_like(centroids)\n",
    "\n",
    "    # Itérations\n",
    "    for i in range(max_iterations):\n",
    "        # Assigner chaque point à un cluster\n",
    "        clusters = f1(data, centroids, distance)\n",
    "\n",
    "        # Calculer les nouveaux centroïdes\n",
    "        centroids = f2(data, clusters)\n",
    "\n",
    "        # Vérifier la convergence\n",
    "        if f3(previous_centroids, centroids, threshold):\n",
    "            print(f\"Convergence atteinte après {i+1} itérations\")\n",
    "            break\n",
    "\n",
    "        # Mise à jour des centroïdes de l'itération précédente\n",
    "        previous_centroids = centroids.copy()\n",
    "\n",
    "    # Visualisation des clusters et des centroïdes\n",
    "    if show_plot:\n",
    "        colors = ['r', 'g', 'b', 'c', 'm', 'y', 'k']\n",
    "        for i, cluster in enumerate(clusters):\n",
    "            plt.scatter(data[cluster][:, 0], data[cluster][:, 1], c=colors[i % len(colors)])\n",
    "        plt.scatter(centroids[:, 0], centroids[:, 1], marker='x', s=200, linewidths=3, c='k')\n",
    "        plt.show()\n",
    "\n",
    "    # Retourner les clusters et les centroides\n",
    "    return clusters, centroids"
   ]
  },
  {
   "cell_type": "markdown",
   "metadata": {
    "id": "6HMYyLVVN1g5"
   },
   "source": [
    "# Application de k-means sur un jeu de données synthétique"
   ]
  },
  {
   "cell_type": "markdown",
   "metadata": {
    "id": "GTcVgq0FOJHx"
   },
   "source": [
    "Générer un jeu de données synthétique via la méthode make_blobs (https://scikit-learn.org/stable/modules/generated/sklearn.datasets.make_blobs.ht). Fixer le nombre de points (n_samples) à 2000 et le nombre de clusters (centers) à 4."
   ]
  },
  {
   "cell_type": "code",
   "execution_count": null,
   "metadata": {
    "id": "Cz3YhEfsOHY-"
   },
   "outputs": [],
   "source": []
  },
  {
   "cell_type": "markdown",
   "metadata": {
    "id": "pVRGbaG9PTwy"
   },
   "source": [
    "Appliquer k-means sur ce jeu de données avec $k=4$. Visualiser le résultat final."
   ]
  },
  {
   "cell_type": "code",
   "execution_count": null,
   "metadata": {
    "id": "F0Y889YePfGX"
   },
   "outputs": [],
   "source": []
  },
  {
   "cell_type": "markdown",
   "metadata": {
    "id": "Mz3jqPQbPgPq"
   },
   "source": [
    "Relancer k-means et visualiser les résultats de 10 premières itérations."
   ]
  },
  {
   "cell_type": "code",
   "execution_count": null,
   "metadata": {
    "id": "5nLTaPiuP04E"
   },
   "outputs": [],
   "source": []
  },
  {
   "cell_type": "markdown",
   "metadata": {
    "id": "MA-LYFi5P3-O"
   },
   "source": [
    "Relancer k-means en variant les différents choix de vérification de la convergence. Que constatez-vous?\n",
    "\n",
    "Note: les centroides initiaux et la mesure de distance doivent être les mêmes pour chacun des choix."
   ]
  },
  {
   "cell_type": "code",
   "execution_count": null,
   "metadata": {
    "id": "_HOmh5rYQbni"
   },
   "outputs": [],
   "source": []
  },
  {
   "cell_type": "markdown",
   "metadata": {
    "id": "KrFOQQGeQofw"
   },
   "source": [
    "Créer un autre jeu de données synthétique. Choisissez un nombre de clusters et un nombre de points que vous souhaitez. Puis lancer à nouveau k-means avec k égal au nombre de clusters choisi. \n",
    "\n",
    "Note: vous pourriez créer optionnellement  un jeu de données plus personnalisé en jouant sur les valeurs des paramètres centers, cluster_std et center_box."
   ]
  },
  {
   "cell_type": "code",
   "execution_count": null,
   "metadata": {
    "id": "sy_WtQGASwXu"
   },
   "outputs": [],
   "source": []
  },
  {
   "cell_type": "markdown",
   "metadata": {
    "id": "RlJtXZ3n7cIV"
   },
   "source": [
    "## Application de k-means sur une image"
   ]
  },
  {
   "cell_type": "markdown",
   "metadata": {
    "id": "5EcMbdvR7l8b"
   },
   "source": [
    "Dans cette partie, nous allons effectuer une fragmentation de l'image \"nature.jpg\". Cela aboutira à plusieurs parties de forme variable représentant différents objects dans l'image."
   ]
  },
  {
   "cell_type": "markdown",
   "metadata": {
    "id": "ppojh1YBHduG"
   },
   "source": [
    "Charger l'image nature.jpg avec la bibliothèque cv2. Puis afficher l'image."
   ]
  },
  {
   "cell_type": "code",
   "execution_count": null,
   "metadata": {
    "id": "63E6LJVqHqd2"
   },
   "outputs": [],
   "source": []
  },
  {
   "cell_type": "markdown",
   "metadata": {
    "id": "7iCcTtEOHsO7"
   },
   "source": [
    "Quelle est la taille de l'image? Stocker cette taille dans une variable appelée taille_originale."
   ]
  },
  {
   "cell_type": "code",
   "execution_count": null,
   "metadata": {
    "id": "4ntQL1huHz-g"
   },
   "outputs": [],
   "source": []
  },
  {
   "cell_type": "markdown",
   "metadata": {
    "id": "CcXCpF9DH5gU"
   },
   "source": [
    "Convertir l'image chargée à la taille $n\\times 3$ avec $n$ le nombre de pixels et 3 le nombre de cannaux de couleurs. Puis afficher dans un graphe 3D l'image. "
   ]
  },
  {
   "cell_type": "code",
   "execution_count": null,
   "metadata": {
    "id": "cUcqUjPMJB03"
   },
   "outputs": [],
   "source": []
  },
  {
   "cell_type": "markdown",
   "metadata": {
    "id": "AklCABl8JCtU"
   },
   "source": [
    "Appliquer k-means sur l'image avec $k=3$. \n",
    "\n",
    "Note: si le temps d'exécution est relativement lent (dépassant 10 minutes), réduisez la taille de l'image avec la fonction resize proposée par la bibliothèque cv2 puis réexécuter les questions précédentes de cette partie."
   ]
  },
  {
   "cell_type": "code",
   "execution_count": null,
   "metadata": {
    "id": "WjVmU_BbMc0K"
   },
   "outputs": [],
   "source": []
  },
  {
   "cell_type": "markdown",
   "metadata": {
    "id": "i-xTJCdtL1lt"
   },
   "source": [
    "Créer un tableau ndarray de taille $n\\times 3$ contenant la valeur du centroide le plus proche de chaque point (pixel)."
   ]
  },
  {
   "cell_type": "code",
   "execution_count": null,
   "metadata": {
    "id": "L6dXSYSEMHFN"
   },
   "outputs": [],
   "source": []
  },
  {
   "cell_type": "markdown",
   "metadata": {
    "id": "3KwvYkdUMH58"
   },
   "source": [
    "Convertir la taille de ce tableau à taille originale de l'image.  "
   ]
  },
  {
   "cell_type": "code",
   "execution_count": null,
   "metadata": {
    "id": "l92AYWVhMaFn"
   },
   "outputs": [],
   "source": []
  },
  {
   "cell_type": "markdown",
   "metadata": {
    "id": "qs2CMaIZMa01"
   },
   "source": [
    "Visualiser l'image originale et l'image obtenue via k-means. Qu'observez-vous?"
   ]
  },
  {
   "cell_type": "code",
   "execution_count": null,
   "metadata": {
    "id": "fuaOjHj-Mscg"
   },
   "outputs": [],
   "source": []
  },
  {
   "cell_type": "markdown",
   "metadata": {
    "id": "DF7bCO9d_m4l"
   },
   "source": [
    "Références:\n",
    "- https://docs.anaconda.com/anaconda/install/windows/\n",
    "- https://docs.python.org/3/library/random.html\n",
    "- https://numpy.org/doc/stable/numpy-ref.pdf\n",
    "- https://numpy.org/\n",
    "- https://matplotlib.org/stable/tutorials/index.html\n",
    "- https://docs.opencv.org/3.0-beta/modules/imgcodecs/doc/reading_and_writing_images.html \n",
    "- https://docs.opencv.org/3.0-beta/modules/imgproc/doc/geometric_transformations.html?highlight=resize#cv2.resize"
   ]
  }
 ],
 "metadata": {
  "colab": {
   "collapsed_sections": [],
   "name": "tp_k-means1.ipynb",
   "provenance": []
  },
  "kernelspec": {
   "display_name": "Python 3",
   "language": "python",
   "name": "python3"
  },
  "language_info": {
   "codemirror_mode": {
    "name": "ipython",
    "version": 3
   },
   "file_extension": ".py",
   "mimetype": "text/x-python",
   "name": "python",
   "nbconvert_exporter": "python",
   "pygments_lexer": "ipython3",
   "version": "3.11.2"
  }
 },
 "nbformat": 4,
 "nbformat_minor": 1
}
